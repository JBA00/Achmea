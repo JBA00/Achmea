{
 "cells": [
  {
   "cell_type": "code",
   "execution_count": 1,
   "metadata": {},
   "outputs": [],
   "source": [
    "import pandas as pd"
   ]
  },
  {
   "cell_type": "code",
   "execution_count": 3,
   "metadata": {},
   "outputs": [],
   "source": [
    "#pass as parameter what it is for \n",
    "def create_df(what_for):\n",
    "    # Create the data frames\n",
    "    erasmus_db = pd.read_csv(\"data/Erasmus.csv\", sep=\";\")\n",
    "    mutation_log_db = pd.read_csv(\"data/Mutatielog_id.csv\", sep=\";\")\n",
    "    toelichting_db = pd.read_excel(\"data/Toelichting.xlsx\")\n",
    "\n",
    "    # Create new columns for date and time\n",
    "    mutation_log_db['DatumRegistratie'] = pd.to_datetime(\n",
    "        mutation_log_db['DatumRegistratie'])\n",
    "\n",
    "    mutation_log_db['date'] = mutation_log_db['DatumRegistratie'].dt.date\n",
    "    mutation_log_db['time'] = mutation_log_db['DatumRegistratie'].dt.time\n",
    "\n",
    "    # Fix float values.\n",
    "    for col in erasmus_db.columns:\n",
    "        try:\n",
    "            erasmus_db[col] = erasmus_db[col].str.replace(\n",
    "                ',', '.').astype(float)\n",
    "        except Exception:\n",
    "            continue\n",
    "\n",
    "    # Translate the column into lists, so that maybe we can calculate the number of red flags.\n",
    "    erasmus_db['SF_woord'] = erasmus_db['SF_woord'].str.replace(\n",
    "        ' ', '').str.split(',')\n",
    "\n",
    "    erasmus_db['SF_woord_count'] = [len(x) if isinstance(\n",
    "        x, list) else None for x in erasmus_db['SF_woord']]\n",
    "\n",
    "    for col in erasmus_db.filter(regex='^VT_'):\n",
    "        try:\n",
    "            erasmus_db[col] = erasmus_db[col].replace(\n",
    "                999, None).astype(float)\n",
    "        except Exception:\n",
    "            continue\n",
    "\n",
    "    if what_for==\"random_forest\":\n",
    "        erasmus_db.drop(\"SF_woord\", axis=1)\n",
    "        erasmus_db.drop(\"id\", axis=1)\n",
    "        erasmus_db.drop(\"prediction\", axis=1)\n",
    "    if what_for==\"eda\":\n",
    "        erasmus_db= erasmus_db[[\"vm\", \"polis_2\", \"polis_5\", \"age\", \"status\",\"LG1\", \"SF_woord_count\"]]\n",
    "\n",
    "    return erasmus_db"
   ]
  }
 ],
 "metadata": {
  "kernelspec": {
   "display_name": "base",
   "language": "python",
   "name": "python3"
  },
  "language_info": {
   "codemirror_mode": {
    "name": "ipython",
    "version": 3
   },
   "file_extension": ".py",
   "mimetype": "text/x-python",
   "name": "python",
   "nbconvert_exporter": "python",
   "pygments_lexer": "ipython3",
   "version": "3.11.5"
  }
 },
 "nbformat": 4,
 "nbformat_minor": 2
}
